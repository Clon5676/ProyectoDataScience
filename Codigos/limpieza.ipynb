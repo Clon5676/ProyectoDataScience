{
 "cells": [
  {
   "cell_type": "code",
   "execution_count": 1,
   "id": "11d79789",
   "metadata": {},
   "outputs": [],
   "source": [
    "import pandas as pd"
   ]
  },
  {
   "cell_type": "code",
   "execution_count": 2,
   "id": "d68bfbbc",
   "metadata": {},
   "outputs": [],
   "source": [
    "# Leer el archivo CSV\n",
    "df = pd.read_csv('../Databases/games.csv')"
   ]
  },
  {
   "cell_type": "code",
   "execution_count": 3,
   "id": "3acd653a",
   "metadata": {},
   "outputs": [],
   "source": [
    "# # Agregar una columna de índice al principio\n",
    "\n",
    "df_modified = df.copy()\n",
    "df_modified.reset_index(drop=False, inplace=True)\n",
    "df_modified.rename(columns={'index': 'AppID1'}, inplace=True)\n",
    "df_modified.rename(columns={'AppID': 'Name1'}, inplace=True)\n",
    "df_modified.rename(columns={'Name': 'Release Date1'}, inplace=True)\n",
    "df_modified.rename(columns={'Release date': 'Estimated owners1'}, inplace=True)\n",
    "df_modified.rename(columns={'Estimated owners': 'Peak CCU1'}, inplace=True)\n",
    "df_modified.rename(columns={'Peak CCU': 'Required age1'}, inplace=True)\n",
    "df_modified.rename(columns={'Required age': 'Price1'}, inplace=True)\n",
    "df_modified.drop(columns=['Price'], inplace=True)"
   ]
  },
  {
   "cell_type": "code",
   "execution_count": 4,
   "id": "be48953f",
   "metadata": {},
   "outputs": [],
   "source": [
    "df_good = df_modified.copy()\n",
    "df_good.rename(columns={'AppID1': 'AppID'}, inplace=True)\n",
    "df_good.rename(columns={'Name1': 'Name'}, inplace=True)\n",
    "df_good.rename(columns={'Release Date1': 'Release date'}, inplace=True)\n",
    "df_good.rename(columns={'Estimated owners1': 'Estimated owners'}, inplace=True)\n",
    "df_good.rename(columns={'Peak CCU1': 'Peak CCU'}, inplace=True)\n",
    "df_good.rename(columns={'Required age1': 'Required age'}, inplace=True)\n",
    "df_good.rename(columns={'Price1': 'Price'}, inplace=True)"
   ]
  },
  {
   "cell_type": "code",
   "execution_count": 5,
   "id": "47185c55",
   "metadata": {},
   "outputs": [],
   "source": [
    "# print(\"DataFrame original:\")\n",
    "# print(df_good.head())"
   ]
  },
  {
   "cell_type": "code",
   "execution_count": 6,
   "id": "8bbd4615",
   "metadata": {},
   "outputs": [
    {
     "name": "stdout",
     "output_type": "stream",
     "text": [
      "\n",
      "Número de filas con valores nulos en cada columna:\n",
      "AppID                              0\n",
      "Name                               6\n",
      "Release date                       0\n",
      "Estimated owners                   0\n",
      "Peak CCU                           0\n",
      "Required age                       0\n",
      "Price                              0\n",
      "DiscountDLC count                  0\n",
      "About the game                  6483\n",
      "Supported languages                0\n",
      "Full audio languages               0\n",
      "Reviews                       100828\n",
      "Header image                       0\n",
      "Website                        64994\n",
      "Support url                    60693\n",
      "Support email                  19025\n",
      "Windows                            0\n",
      "Mac                                0\n",
      "Linux                              0\n",
      "Metacritic score                   0\n",
      "Metacritic url                107447\n",
      "User score                         0\n",
      "Positive                           0\n",
      "Negative                           0\n",
      "Score rank                    111408\n",
      "Achievements                       0\n",
      "Recommendations                    0\n",
      "Notes                          93003\n",
      "Average playtime forever           0\n",
      "Average playtime two weeks         0\n",
      "Median playtime forever            0\n",
      "Median playtime two weeks          0\n",
      "Developers                      6475\n",
      "Publishers                      6778\n",
      "Categories                      7566\n",
      "Genres                          6440\n",
      "Tags                           37423\n",
      "Screenshots                     4192\n",
      "Movies                          9620\n",
      "dtype: int64\n"
     ]
    }
   ],
   "source": [
    "# Verificar cuántas filas tienen valores nulos\n",
    "print(\"\\nNúmero de filas con valores nulos en cada columna:\")\n",
    "print(df_good.isnull().sum())"
   ]
  },
  {
   "cell_type": "code",
   "execution_count": 7,
   "id": "8547a6fa",
   "metadata": {},
   "outputs": [],
   "source": [
    "# # Reemplazar valores nulos con -1\n",
    "df_good.fillna(-1, inplace=True)"
   ]
  },
  {
   "cell_type": "code",
   "execution_count": 8,
   "id": "218d905d",
   "metadata": {},
   "outputs": [
    {
     "name": "stdout",
     "output_type": "stream",
     "text": [
      "\n",
      "Número de filas con valores nulos en cada columna:\n",
      "AppID                         0\n",
      "Name                          0\n",
      "Release date                  0\n",
      "Estimated owners              0\n",
      "Peak CCU                      0\n",
      "Required age                  0\n",
      "Price                         0\n",
      "DiscountDLC count             0\n",
      "About the game                0\n",
      "Supported languages           0\n",
      "Full audio languages          0\n",
      "Reviews                       0\n",
      "Header image                  0\n",
      "Website                       0\n",
      "Support url                   0\n",
      "Support email                 0\n",
      "Windows                       0\n",
      "Mac                           0\n",
      "Linux                         0\n",
      "Metacritic score              0\n",
      "Metacritic url                0\n",
      "User score                    0\n",
      "Positive                      0\n",
      "Negative                      0\n",
      "Score rank                    0\n",
      "Achievements                  0\n",
      "Recommendations               0\n",
      "Notes                         0\n",
      "Average playtime forever      0\n",
      "Average playtime two weeks    0\n",
      "Median playtime forever       0\n",
      "Median playtime two weeks     0\n",
      "Developers                    0\n",
      "Publishers                    0\n",
      "Categories                    0\n",
      "Genres                        0\n",
      "Tags                          0\n",
      "Screenshots                   0\n",
      "Movies                        0\n",
      "dtype: int64\n"
     ]
    }
   ],
   "source": [
    "# Verificar cuántas filas tienen valores nulos\n",
    "print(\"\\nNúmero de filas con valores nulos en cada columna:\")\n",
    "print(df_good.isnull().sum())"
   ]
  },
  {
   "cell_type": "code",
   "execution_count": 9,
   "id": "ae93f163",
   "metadata": {},
   "outputs": [],
   "source": [
    "df_good.to_csv('games_cleaned.csv', index=False)\n"
   ]
  }
 ],
 "metadata": {
  "kernelspec": {
   "display_name": "Python 3",
   "language": "python",
   "name": "python3"
  },
  "language_info": {
   "codemirror_mode": {
    "name": "ipython",
    "version": 3
   },
   "file_extension": ".py",
   "mimetype": "text/x-python",
   "name": "python",
   "nbconvert_exporter": "python",
   "pygments_lexer": "ipython3",
   "version": "3.13.3"
  }
 },
 "nbformat": 4,
 "nbformat_minor": 5
}
