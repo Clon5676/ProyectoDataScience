{
 "cells": [
  {
   "cell_type": "code",
   "execution_count": 9,
   "id": "491821c4",
   "metadata": {},
   "outputs": [],
   "source": [
    "import pandas as pd\n",
    "import re"
   ]
  },
  {
   "cell_type": "code",
   "execution_count": 10,
   "id": "52c0b8d7",
   "metadata": {},
   "outputs": [],
   "source": [
    "# Cargar el archivo CSV\n",
    "dfdata = pd.read_csv('../Databases/games_cleaned.csv')"
   ]
  },
  {
   "cell_type": "code",
   "execution_count": null,
   "id": "c3ea33a4",
   "metadata": {},
   "outputs": [
    {
     "name": "stdout",
     "output_type": "stream",
     "text": [
      "DataFrame original:\n"
     ]
    },
    {
     "data": {
      "text/plain": [
       "(111452, 39)"
      ]
     },
     "execution_count": 22,
     "metadata": {},
     "output_type": "execute_result"
    }
   ],
   "source": [
    "# Mostrar el DataFrame original\n",
    "print(\"DataFrame original:\")\n",
    "# print(dfdata.head())\n",
    "print(dfdata.shape)"
   ]
  },
  {
   "cell_type": "markdown",
   "id": "027de0f2",
   "metadata": {},
   "source": [
    "Al tener los datos, vamos a usar Supported languages, categorias, genres y tags como variables categoricas."
   ]
  },
  {
   "cell_type": "code",
   "execution_count": 12,
   "id": "43b5be99",
   "metadata": {},
   "outputs": [],
   "source": [
    "def clean_language(lang_str):\n",
    "    if pd.isna(lang_str):\n",
    "        return []\n",
    "    \n",
    "    # Eliminar corchetes, comillas y caracteres innecesarios\n",
    "    lang_str = re.sub(r\"[\\[\\]']\", '', str(lang_str))\n",
    "    \n",
    "    # Dividir los idiomas si hay varios\n",
    "    if '\\\\r\\\\n' in lang_str:\n",
    "        languages = lang_str.split('\\\\r\\\\n')\n",
    "    else:\n",
    "        languages = lang_str.split(',')\n",
    "    \n",
    "    cleaned_langs = []\n",
    "    for lang in languages:\n",
    "        # Limpiar cada idioma\n",
    "        lang = re.sub(r'&amp;lt;.*?&amp;gt;', '', lang)  # Eliminar HTML entities\n",
    "        lang = re.sub(r'\\\\r\\\\n|\\\\b', '', lang)  # Eliminar escape sequences\n",
    "        lang = re.sub(r'\\s*\\([^)]*\\)', '', lang)  # Eliminar texto entre paréntesis\n",
    "        lang = re.sub(r'b/b$', '', lang)  # Eliminar sufijo b/b\n",
    "        lang = re.sub(r'[;#_]', '', lang)  # Eliminar caracteres especiales\n",
    "        lang = re.sub(r'\\s+', ' ', lang)  # Reemplazar múltiples espacios por uno solo\n",
    "        \n",
    "        # Estandarizar nombres de idiomas\n",
    "        lang = re.sub(r'Spanish\\s*-\\s*(Spain|Latin America)', 'Spanish', lang)\n",
    "        lang = re.sub(r'Portuguese\\s*-\\s*(Brazil|Portugal)', 'Portuguese', lang)\n",
    "        lang = re.sub(r'#lang_français|Langfrançais', 'French', lang)\n",
    "        lang = re.sub(r'English Dutch  English', 'English', lang)  # Corregir duplicados\n",
    "        lang = re.sub(r'English,', 'English', lang)  # Corregir errores de coma\n",
    "        lang = re.sub(r'French,', 'French', lang) \n",
    "        lang = re.sub(r'Langfrançais', 'French', lang) \n",
    "        \n",
    "        \n",
    "        # Limpiar errores específicos\n",
    "        lang = re.sub(r'Englishb/B', 'English', lang)  # Corregir 'Englishb/B'\n",
    "        lang = re.sub(r'Frenchb/B', 'French', lang)  # Corregir 'Frenchb/B'\n",
    "        lang = re.sub(r'Germanb/B', 'German', lang)  # Corregir 'Germanb/B'\n",
    "        lang = re.sub(r'Italianb/B', 'Italian', lang)  # Corregir 'Italianb/B'\n",
    "        lang = re.sub(r'Koreanb/B', 'Korean', lang)  # Corregir 'Koreanb/B'\n",
    "        lang = re.sub(r'English Dutch English', 'English', lang)        \n",
    "        \n",
    "        # Eliminar espacios extras y convertir a título\n",
    "        lang = lang.strip().title()\n",
    "        \n",
    "        \n",
    "        if lang and lang.lower() != 'b/b':  # Solo agregar si no está vacío o es un error\n",
    "            cleaned_langs.append(lang)\n",
    "\n",
    "    \n",
    "    \n",
    "    return cleaned_langs\n"
   ]
  },
  {
   "cell_type": "markdown",
   "id": "ff20de47",
   "metadata": {},
   "source": [
    "Aqui se estan quitando a mano estos datos ya que por alguna razon el codigo os estaba generando y no se encontraba forma de borrarlos en otro lado"
   ]
  },
  {
   "cell_type": "code",
   "execution_count": 13,
   "id": "88f867e9",
   "metadata": {},
   "outputs": [],
   "source": [
    "# # Aplicar la limpieza a la columna de idiomas\n",
    "all_languages = []\n",
    "for lang_list in dfdata['Supported languages']:\n",
    "    all_languages.extend(clean_language(lang_list))\n",
    "\n",
    "# Obtener valores únicos y ordenarlos\n",
    "unique_languages = sorted(set(all_languages))\n",
    "unique_languages.remove('Langfrançais')\n",
    "unique_languages.remove('Englishb/B, French Germanb/B, Italian, Spanish')\n",
    "unique_languages.remove('Englishb/B, Frenchb/B, Italianb/B, Germanb/B, Spanishb/B, Russian, Polish, Koreanb/B, Japanese')\n",
    "unique_languages.remove('Englishb/B, German, French Italian, Spanish, Russian')\n",
    "unique_languages.remove('Englishb/B, German, French Polish, Spanish, Italian')\n",
    "\n"
   ]
  },
  {
   "cell_type": "code",
   "execution_count": 14,
   "id": "3a7c31d1",
   "metadata": {},
   "outputs": [
    {
     "name": "stdout",
     "output_type": "stream",
     "text": [
      "Lista de idiomas únicos después de la limpieza:\n",
      "['Afrikaans', 'Albanian', 'Amharic', 'Arabic', 'Armenian', 'Assamese', 'Azerbaijani', 'Bangla', 'Basque', 'Belarusian', 'Bosnian', 'Bulgarian', 'Catalan', 'Cherokee', 'Croatian', 'Czech', 'Danish', 'Dari', 'Dutch', 'English', 'Estonian', 'Filipino', 'Finnish', 'French', 'Galician', 'Georgian', 'German', 'Greek', 'Gujarati', 'Hausa', 'Hebrew', 'Hindi', 'Hungarian', 'Icelandic', 'Igbo', 'Indonesian', 'Irish', 'Italian', 'Japanese', 'Kannada', 'Kazakh', 'Khmer', 'Kiche', 'Kinyarwanda', 'Konkani', 'Korean', 'Kyrgyz', 'Latvian', 'Lithuanian', 'Luxembourgish', 'Macedonian', 'Malay', 'Malayalam', 'Maltese', 'Maori', 'Marathi', 'Mongolian', 'Nepali', 'Norwegian', 'Odia', 'Persian', 'Polish', 'Portuguese', 'Punjabi', 'Quechua', 'Romanian', 'Russian', 'Scots', 'Serbian', 'Simplified Chinese', 'Sindhi', 'Sinhala', 'Slovak', 'Slovakian', 'Slovenian', 'Sorani', 'Sotho', 'Spanish', 'Swahili', 'Swedish', 'Tajik', 'Tamil', 'Tatar', 'Telugu', 'Thai', 'Tigrinya', 'Traditional Chinese', 'Tswana', 'Turkish', 'Turkmen', 'Ukrainian', 'Urdu', 'Uyghur', 'Uzbek', 'Valencian', 'Vietnamese', 'Welsh', 'Wolof', 'Xhosa', 'Yoruba', 'Zulu']\n",
      "\n",
      "Número total de idiomas únicos: 101\n"
     ]
    }
   ],
   "source": [
    "print(\"Lista de idiomas únicos después de la limpieza:\")\n",
    "print(unique_languages)\n",
    "print(f\"\\nNúmero total de idiomas únicos: {len(unique_languages)}\")\n"
   ]
  },
  {
   "cell_type": "code",
   "execution_count": 15,
   "id": "d2a525c8",
   "metadata": {},
   "outputs": [],
   "source": [
    "dflanguages = dfdata.copy()"
   ]
  },
  {
   "cell_type": "code",
   "execution_count": null,
   "id": "a7b20fbc",
   "metadata": {},
   "outputs": [
    {
     "name": "stdout",
     "output_type": "stream",
     "text": [
      "(111452, 140)\n"
     ]
    }
   ],
   "source": [
    "for idioma in unique_languages:\n",
    "    # Crear el nombre de la columna (en minúsculas y reemplazando espacios por guiones bajos)\n",
    "    nombre_columna = f'language_{idioma.lower().replace(\" \", \"_\")}'\n",
    "    \n",
    "    # Crear la columna binaria\n",
    "    # Será 1 si el idioma está en la lista de idiomas soportados del juego, 0 si no\n",
    "    dflanguages[nombre_columna] = dflanguages['Supported languages'].apply(lambda x: 1 if idioma in x else 0)\n",
    "\n",
    "# Mostrar las primeras filas del DataFrame con las nuevas columnas\n",
    "# print(dflanguages.head())\n"
   ]
  },
  {
   "cell_type": "code",
   "execution_count": 24,
   "id": "375c1b87",
   "metadata": {},
   "outputs": [
    {
     "name": "stdout",
     "output_type": "stream",
     "text": [
      "Database modificada: \n",
      "(111452, 140)\n"
     ]
    }
   ],
   "source": [
    "print(\"Database modificada: \")\n",
    "print(dflanguages.shape)"
   ]
  }
 ],
 "metadata": {
  "kernelspec": {
   "display_name": "Python 3",
   "language": "python",
   "name": "python3"
  },
  "language_info": {
   "codemirror_mode": {
    "name": "ipython",
    "version": 3
   },
   "file_extension": ".py",
   "mimetype": "text/x-python",
   "name": "python",
   "nbconvert_exporter": "python",
   "pygments_lexer": "ipython3",
   "version": "3.13.3"
  }
 },
 "nbformat": 4,
 "nbformat_minor": 5
}
