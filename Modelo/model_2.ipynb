{
 "cells": [
  {
   "cell_type": "markdown",
   "id": "946e5752",
   "metadata": {},
   "source": [
    "# Model Interation 2\n",
    "Esta es la segunda iteracion del modelo. "
   ]
  },
  {
   "cell_type": "code",
   "execution_count": null,
   "id": "fa7cf928",
   "metadata": {},
   "outputs": [
    {
     "name": "stderr",
     "output_type": "stream",
     "text": [
      "/var/folders/yn/vbht61m97rg6wrrbgs95_9k00000gn/T/ipykernel_90460/498205623.py:14: DtypeWarning: Columns (18) have mixed types. Specify dtype option on import or set low_memory=False.\n",
      "  df = pd.read_csv('../Modelo/gamesWcategoricas.csv')\n"
     ]
    }
   ],
   "source": [
    "import pandas as pd\n",
    "import numpy as np\n",
    "\n",
    "from sklearn.model_selection import train_test_split\n",
    "from sklearn.preprocessing import StandardScaler\n",
    "from sklearn.linear_model import LogisticRegression\n",
    "from sklearn.metrics import (\n",
    "    accuracy_score, precision_score, recall_score, f1_score, \n",
    "    classification_report, confusion_matrix\n",
    ")\n",
    "\n",
    "# Cargar dataset\n",
    "df = pd.read_csv('../Modelo/gamesWcategoricas.csv')\n",
    "\n",
    "# Seleccionar features importantes\n",
    "features_seleccionadas = [\n",
    "    'Average playtime forever', 'Median playtime forever', 'Release date',\n",
    "    'tag_action', 'tag_adventure', 'tag_early_access', 'tag_indie', 'tag_casual',\n",
    "    'tag_strategy', 'tag_simulation', 'tag_singleplayer', 'Average playtime two weeks',\n",
    "    'tag_design_&_illustration', 'Median playtime two weeks', 'Peak CCU',\n",
    "    'tag_multiplayer', 'tag_fighting'\n",
    "]\n",
    "\n",
    "# Variables predictoras y objetivo\n",
    "X = df[features_seleccionadas]\n",
    "y = df['Estimated owners']  # Ajustar si tiene otro nombre\n"
   ]
  },
  {
   "cell_type": "markdown",
   "id": "b6772238",
   "metadata": {},
   "source": [
    "### Split, escalado y entrenamiento del modelo"
   ]
  },
  {
   "cell_type": "code",
   "execution_count": null,
   "id": "cde11284",
   "metadata": {},
   "outputs": [
    {
     "name": "stderr",
     "output_type": "stream",
     "text": [
      "/Users/luisvillela/Desktop/UFM/2025-1/Data science/ProyectoDataScience/env/lib/python3.13/site-packages/sklearn/linear_model/_logistic.py:1247: FutureWarning: 'multi_class' was deprecated in version 1.5 and will be removed in 1.7. From then on, it will always use 'multinomial'. Leave it to its default value to avoid this warning.\n",
      "  warnings.warn(\n"
     ]
    }
   ],
   "source": [
    "# División en train/test\n",
    "X_train, X_test, y_train, y_test = train_test_split(\n",
    "    X, y, test_size=0.2, random_state=42\n",
    ")\n",
    "\n",
    "# Escalado\n",
    "scaler = StandardScaler()\n",
    "X_train_scaled = scaler.fit_transform(X_train)\n",
    "X_test_scaled = scaler.transform(X_test)\n",
    "\n",
    "# Entrenamiento del modelo\n",
    "model = LogisticRegression(\n",
    "    max_iter=1000,\n",
    "    multi_class='multinomial',\n",
    "    solver='lbfgs'\n",
    ")\n",
    "model.fit(X_train_scaled, y_train)\n",
    "\n",
    "# Predicciones\n",
    "y_pred_iter2 = model.predict(X_test_scaled)\n"
   ]
  },
  {
   "cell_type": "markdown",
   "id": "3319b95e",
   "metadata": {},
   "source": [
    "# Evaluación del modelo de Iteración 2"
   ]
  },
  {
   "cell_type": "code",
   "execution_count": 8,
   "id": "d658537c",
   "metadata": {},
   "outputs": [
    {
     "name": "stdout",
     "output_type": "stream",
     "text": [
      "Matriz de Confusión (Iteración 2):\n",
      "[[ 4008   425     1     0     0     0     0     0     0     0     0     0]\n",
      " [ 2300 11599    86     7     3    21     0     0     0     0     0     0]\n",
      " [    2  1534   110     5     9    33     0     0     0     0     0     0]\n",
      " [    0   651    88     7     7    38     1     1     0     0     0     0]\n",
      " [    0   378    97     7     8    58     3     0     1     0     0     0]\n",
      " [    0   221    78     6     4   101     5     5     2     0     0     0]\n",
      " [    0    52    32     0     1    62    15    12     5     1     1     0]\n",
      " [    0    23    16     1     0    44    18    14     1     0     0     0]\n",
      " [    0     0     2     1     0    24    14    14     3     1     1     0]\n",
      " [    0     1     1     1     0     7     1     1     1     0     1     0]\n",
      " [    0     0     0     0     0     1     3     1     1     0     0     0]\n",
      " [    0     0     0     1     0     0     0     0     1     0     0     1]]\n",
      "\n",
      "Reporte de Clasificación:\n",
      "              precision    recall  f1-score   support\n",
      "\n",
      "           0       0.64      0.90      0.75      4434\n",
      "       20000       0.78      0.83      0.80     14016\n",
      "       50000       0.22      0.06      0.10      1693\n",
      "      100000       0.19      0.01      0.02       793\n",
      "      200000       0.25      0.01      0.03       552\n",
      "      500000       0.26      0.24      0.25       422\n",
      "     1000000       0.25      0.08      0.12       181\n",
      "     2000000       0.29      0.12      0.17       117\n",
      "     5000000       0.20      0.05      0.08        60\n",
      "    10000000       0.00      0.00      0.00        14\n",
      "    20000000       0.00      0.00      0.00         6\n",
      "    50000000       1.00      0.33      0.50         3\n",
      "\n",
      "    accuracy                           0.71     22291\n",
      "   macro avg       0.34      0.22      0.23     22291\n",
      "weighted avg       0.65      0.71      0.67     22291\n",
      "\n",
      "Precision (macro): 0.34\n",
      "recall (macro): 0.22\n",
      "F1 Score (macro): 0.235\n",
      "Precision (weighted): 0.655\n",
      "Recall (weighted): 0.712\n",
      "F1 Score (weighted): 0.669\n",
      "KS Score: 0.561\n"
     ]
    }
   ],
   "source": [
    "from sklearn.metrics import (\n",
    "    classification_report, precision_score,\n",
    "    recall_score, f1_score, confusion_matrix\n",
    ")\n",
    "from scipy.stats import ks_2samp\n",
    "\n",
    "\n",
    "# Matriz de Confusión\n",
    "cm = confusion_matrix(y_test, y_pred_iter2)\n",
    "print(\"Matriz de Confusión (Iteración 2):\")\n",
    "print(cm)\n",
    "\n",
    "# Reporte general\n",
    "print(\"\\nReporte de Clasificación:\")\n",
    "print(classification_report(y_test, y_pred_iter2))\n",
    "\n",
    "# Métricas macro y weighted\n",
    "print(\"Precision (macro):\", round(precision_score(y_test, y_pred_iter2, average='macro'), 3))\n",
    "print(\"recall (macro):\", round(recall_score(y_test, y_pred_iter2, average='macro'), 3))\n",
    "print(\"F1 Score (macro):\", round(f1_score(y_test, y_pred_iter2, average='macro'), 3))\n",
    "\n",
    "print(\"Precision (weighted):\", round(precision_score(y_test, y_pred_iter2, average='weighted'), 3))\n",
    "print(\"Recall (weighted):\", round(recall_score(y_test, y_pred_iter2, average='weighted'), 3))\n",
    "print(\"F1 Score (weighted):\", round(f1_score(y_test, y_pred_iter2, average='weighted'), 3))\n",
    "\n",
    "# 1. Crear versión binaria del target para KS\n",
    "threshold = 100000\n",
    "y_test_bin = (y_test >= threshold).astype(int)\n",
    "\n",
    "# 2. Obtener índice de la clase positiva en predict_proba\n",
    "clase_positiva = model.classes_[np.argmax(model.classes_ >= threshold)]\n",
    "indice_clase = list(model.classes_).index(clase_positiva)\n",
    "\n",
    "# 3. Probabilidades predichas para esa clase\n",
    "y_prob = model.predict_proba(X_test_scaled)[:, indice_clase]\n",
    "\n",
    "# 4. Separar según valor real\n",
    "probs_pos = y_prob[y_test_bin == 1]\n",
    "probs_neg = y_prob[y_test_bin == 0]\n",
    "\n",
    "# 5. KS Score\n",
    "ks_score = ks_2samp(probs_pos, probs_neg).statistic\n",
    "print(\"KS Score:\", round(ks_score, 3))\n"
   ]
  }
 ],
 "metadata": {
  "kernelspec": {
   "display_name": "env",
   "language": "python",
   "name": "python3"
  },
  "language_info": {
   "codemirror_mode": {
    "name": "ipython",
    "version": 3
   },
   "file_extension": ".py",
   "mimetype": "text/x-python",
   "name": "python",
   "nbconvert_exporter": "python",
   "pygments_lexer": "ipython3",
   "version": "3.13.1"
  }
 },
 "nbformat": 4,
 "nbformat_minor": 5
}
