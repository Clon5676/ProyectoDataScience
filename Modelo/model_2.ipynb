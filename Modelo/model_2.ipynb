{
 "cells": [
  {
   "cell_type": "markdown",
   "id": "946e5752",
   "metadata": {},
   "source": [
    "# Model Interation 2\n",
    "Esta es la segunda iteracion del modelo. "
   ]
  },
  {
   "cell_type": "markdown",
   "id": "dfca8164",
   "metadata": {},
   "source": [
    "### Set up iteracion 2"
   ]
  },
  {
   "cell_type": "code",
   "execution_count": 1,
   "id": "fa7cf928",
   "metadata": {},
   "outputs": [
    {
     "name": "stderr",
     "output_type": "stream",
     "text": [
      "/var/folders/yn/vbht61m97rg6wrrbgs95_9k00000gn/T/ipykernel_90460/498205623.py:14: DtypeWarning: Columns (18) have mixed types. Specify dtype option on import or set low_memory=False.\n",
      "  df = pd.read_csv('../Modelo/gamesWcategoricas.csv')\n"
     ]
    }
   ],
   "source": [
    "# Librerías estándar\n",
    "import pandas as pd\n",
    "import numpy as np\n",
    "\n",
    "from sklearn.model_selection import train_test_split\n",
    "from sklearn.preprocessing import StandardScaler\n",
    "from sklearn.linear_model import LogisticRegression\n",
    "from sklearn.metrics import (\n",
    "    accuracy_score, precision_score, recall_score, f1_score, \n",
    "    classification_report, confusion_matrix\n",
    ")\n",
    "\n",
    "# Cargar dataset\n",
    "df = pd.read_csv('../Modelo/gamesWcategoricas.csv')\n",
    "\n",
    "# Seleccionar features importantes\n",
    "features_seleccionadas = [\n",
    "    'Average playtime forever', 'Median playtime forever', 'Release date',\n",
    "    'tag_action', 'tag_adventure', 'tag_early_access', 'tag_indie', 'tag_casual',\n",
    "    'tag_strategy', 'tag_simulation', 'tag_singleplayer', 'Average playtime two weeks',\n",
    "    'tag_design_&_illustration', 'Median playtime two weeks', 'Peak CCU',\n",
    "    'tag_multiplayer', 'tag_fighting'\n",
    "]\n",
    "\n",
    "# Variables predictoras y objetivo\n",
    "X = df[features_seleccionadas]\n",
    "y = df['Estimated owners']  # Ajustar si tiene otro nombre\n"
   ]
  }
 ],
 "metadata": {
  "kernelspec": {
   "display_name": "env",
   "language": "python",
   "name": "python3"
  },
  "language_info": {
   "codemirror_mode": {
    "name": "ipython",
    "version": 3
   },
   "file_extension": ".py",
   "mimetype": "text/x-python",
   "name": "python",
   "nbconvert_exporter": "python",
   "pygments_lexer": "ipython3",
   "version": "3.13.1"
  }
 },
 "nbformat": 4,
 "nbformat_minor": 5
}
