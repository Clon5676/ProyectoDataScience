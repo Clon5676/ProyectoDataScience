{
 "cells": [
  {
   "cell_type": "markdown",
   "id": "72746a83",
   "metadata": {},
   "source": [
    "# Modelo Final"
   ]
  },
  {
   "cell_type": "markdown",
   "id": "af9aa3cc",
   "metadata": {},
   "source": []
  }
 ],
 "metadata": {
  "language_info": {
   "name": "python"
  }
 },
 "nbformat": 4,
 "nbformat_minor": 5
}
