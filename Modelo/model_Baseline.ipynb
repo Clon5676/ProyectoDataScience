{
 "cells": [
  {
   "cell_type": "markdown",
   "id": "a49f01f8",
   "metadata": {},
   "source": [
    "# Model Baseline\n",
    "Intrucciones: \n",
    "una vez realizado el EDA, deberá proceder con el desarrollo del modelo de\n",
    "clasificación. Para esto, deberá utilizar un modelo de Regresión Logísitica e incluir lo\n",
    "siguiente:"
   ]
  },
  {
   "cell_type": "markdown",
   "id": "1af4c2a0",
   "metadata": {},
   "source": [
    "### A) análisis general de features disponibles.\n",
    "Cargar dataset en su estado original y hacer un análisis general de features disponibles."
   ]
  },
  {
   "cell_type": "code",
   "execution_count": null,
   "id": "bd36ca26",
   "metadata": {
    "vscode": {
     "languageId": "plaintext"
    }
   },
   "outputs": [],
   "source": [
    "#cargar data orignial\n",
    "#hacer EDA base sobre la data."
   ]
  },
  {
   "cell_type": "markdown",
   "id": "2f3ca238",
   "metadata": {},
   "source": [
    "### B) Modelo Baseline\n",
    "Con todas las features que sean a primera impresión utilizables realizar un Modelo\n",
    "Baseline y evaluar su rendimiento. Utilizar matriz de confusión, accuracy,\n",
    "precision, recall y KS. Esta será la “vara” que iteraciones futuras del modelo\n",
    "tendrán que superar."
   ]
  },
  {
   "cell_type": "code",
   "execution_count": null,
   "id": "9e612665",
   "metadata": {
    "vscode": {
     "languageId": "plaintext"
    }
   },
   "outputs": [],
   "source": [
    "# Utilizar matriz de confusión, accuracy, precision, recall y KS. "
   ]
  },
  {
   "cell_type": "markdown",
   "id": "f4b7582d",
   "metadata": {},
   "source": [
    "### C) Categoricas a numericas\n",
    "Transformar variables categóricas a numéricas con el método adecuado según su\n",
    "criterio, para poder incluirlas en el modelo."
   ]
  },
  {
   "cell_type": "code",
   "execution_count": null,
   "id": "91725c21",
   "metadata": {
    "vscode": {
     "languageId": "plaintext"
    }
   },
   "outputs": [],
   "source": [
    "#transformacion podria ser con one hot encoding por ejemplo."
   ]
  },
  {
   "cell_type": "markdown",
   "id": "5e1ec7dd",
   "metadata": {},
   "source": [
    "### D) Feature Engineering\n",
    "Implementar Feature Engineering si alguna feature lo amerita, recordar lo visto en\n",
    "las features del modelo de score crediticio."
   ]
  },
  {
   "cell_type": "code",
   "execution_count": null,
   "id": "2a3f6239",
   "metadata": {
    "vscode": {
     "languageId": "plaintext"
    }
   },
   "outputs": [],
   "source": [
    "# aqui se me ocuure heat map por ejemplo pero en el punto sigeuinte E) tambien lo mencionan para el selection."
   ]
  },
  {
   "cell_type": "markdown",
   "id": "8cc7c383",
   "metadata": {},
   "source": [
    "### E) Feature Selection\n",
    "Implementar los siguientes métodos de Feature Selection y acompañado de su\n",
    "criterio, decidir qué features incluir en el modelo y cuáles descartar.\n",
    "i. Heatmap de correlación\n",
    "ii. Feature importance por coeficientes\n",
    "iii. WoE + IV"
   ]
  },
  {
   "cell_type": "code",
   "execution_count": null,
   "id": "65f7c9b5",
   "metadata": {
    "vscode": {
     "languageId": "plaintext"
    }
   },
   "outputs": [],
   "source": [
    "#heatmap\n",
    "#coeficientes\n",
    "#WOE + IV"
   ]
  },
  {
   "cell_type": "markdown",
   "id": "70d0ac8e",
   "metadata": {},
   "source": [
    "### Resultados: \n",
    "En este modelo baseline vemos que..."
   ]
  }
 ],
 "metadata": {
  "language_info": {
   "name": "python"
  }
 },
 "nbformat": 4,
 "nbformat_minor": 5
}
