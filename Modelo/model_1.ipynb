{
 "cells": [
  {
   "cell_type": "markdown",
   "id": "cbf8ef34",
   "metadata": {},
   "source": [
    "# Model 1\n",
    "Esta es la primera iteracion del modelo luego de completar el model baseline. "
   ]
  },
  {
   "cell_type": "code",
   "execution_count": null,
   "id": "450f3e7e",
   "metadata": {},
   "outputs": [],
   "source": []
  },
  {
   "cell_type": "code",
   "execution_count": null,
   "id": "08cdaa3d",
   "metadata": {},
   "outputs": [],
   "source": []
  }
 ],
 "metadata": {
  "kernelspec": {
   "display_name": "Python 3",
   "language": "python",
   "name": "python3"
  },
  "language_info": {
   "codemirror_mode": {
    "name": "ipython",
    "version": 3
   },
   "file_extension": ".py",
   "mimetype": "text/x-python",
   "name": "python",
   "nbconvert_exporter": "python",
   "pygments_lexer": "ipython3",
   "version": "3.13.3"
  }
 },
 "nbformat": 4,
 "nbformat_minor": 5
}
