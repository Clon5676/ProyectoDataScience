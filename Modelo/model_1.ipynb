{
 "cells": [
  {
   "cell_type": "markdown",
   "id": "cbf8ef34",
   "metadata": {},
   "source": [
    "# Model 1\n",
    "Esta es la primera iteracion del modelo luego de completar el model baseline. "
   ]
  }
 ],
 "metadata": {
  "language_info": {
   "name": "python"
  }
 },
 "nbformat": 4,
 "nbformat_minor": 5
}
