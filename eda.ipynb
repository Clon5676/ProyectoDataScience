{
 "cells": [
  {
   "cell_type": "markdown",
   "id": "8f2f6c47",
   "metadata": {},
   "source": [
    "# Análisis exploratorio de datos\n",
    "Insturcciones:\n",
    "EDA (análisis exploratorio de datos): previo a la fase de modelado, deberá realizarse un\n",
    "EDA sobre el dataset seleccionado. Este debe cumplir con:\n",
    "\n",
    "a) Plantear tres (3) preguntas de su interés. Estas preguntas deben ser “preguntas\n",
    "complejas”, utilizar el mismo criterio aplicado al Proyecto 1 del curso.\n",
    "\n",
    "b) En un único notebook, definir dichas preguntas y proceder a encontrar la\n",
    "respuesta utilizando las herramientas de manipulación y análisis de datos vistas\n",
    "en clase.\n",
    "\n",
    "c) Trabajar de forma ordenada el notebook, utilizando una combinación de celdas\n",
    "de código y celdas de markdown.\n",
    "\n",
    "d) Una de las preguntas debe tener una respuesta gráfica, acompañada de su\n",
    "interpretación correspondiente.\n",
    "\n",
    "e) Este notebook debe subirse al repositorio con el nombre eda.ipynb y encontrarse\n",
    "en el primer nivel de la estructura de archivos del repositorio. Asegurarse que el\n",
    "notebook pueda resetearse y volverse a ejecutar (run all) sin ningún\n",
    "inconveniente."
   ]
  },
  {
   "cell_type": "markdown",
   "id": "a8d327bb",
   "metadata": {},
   "source": [
    "## Preguntas de interés"
   ]
  },
  {
   "cell_type": "markdown",
   "id": "cd7f5b1b",
   "metadata": {},
   "source": [
    "### 1) pregunta "
   ]
  },
  {
   "cell_type": "code",
   "execution_count": null,
   "id": "037b8354",
   "metadata": {
    "vscode": {
     "languageId": "plaintext"
    }
   },
   "outputs": [],
   "source": [
    "#aqui vamos a plantear la primera pregunta"
   ]
  },
  {
   "cell_type": "markdown",
   "id": "9540e68e",
   "metadata": {},
   "source": [
    "### 2) pregunta "
   ]
  },
  {
   "cell_type": "code",
   "execution_count": null,
   "id": "1ceddc09",
   "metadata": {
    "vscode": {
     "languageId": "plaintext"
    }
   },
   "outputs": [],
   "source": [
    "#aqui la segunda"
   ]
  },
  {
   "cell_type": "markdown",
   "id": "61e8cc1d",
   "metadata": {},
   "source": [
    "### 3) pregunta "
   ]
  },
  {
   "cell_type": "code",
   "execution_count": null,
   "id": "21012957",
   "metadata": {
    "vscode": {
     "languageId": "plaintext"
    }
   },
   "outputs": [],
   "source": [
    "#y la tercera"
   ]
  }
 ],
 "metadata": {
  "language_info": {
   "name": "python"
  }
 },
 "nbformat": 4,
 "nbformat_minor": 5
}
