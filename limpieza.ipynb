{
 "cells": [
  {
   "cell_type": "code",
   "execution_count": 1,
   "id": "11d79789",
   "metadata": {},
   "outputs": [],
   "source": [
    "import pandas as pd"
   ]
  },
  {
   "cell_type": "code",
   "execution_count": 2,
   "id": "d68bfbbc",
   "metadata": {},
   "outputs": [],
   "source": [
    "# Leer el archivo CSV especificando el delimitador\n",
    "df = pd.read_csv('games.csv')\n"
   ]
  },
  {
   "cell_type": "code",
   "execution_count": 3,
   "id": "3acd653a",
   "metadata": {},
   "outputs": [],
   "source": [
    "# # Agregar una columna de índice al principio\n",
    "\n",
    "df_modified = df.copy()\n",
    "df_modified.reset_index(drop=False, inplace=True)\n",
    "df_modified.rename(columns={'index': 'AppID1'}, inplace=True)\n",
    "df_modified.rename(columns={'AppID': 'Name1'}, inplace=True)\n",
    "df_modified.rename(columns={'Name': 'Release Date1'}, inplace=True)\n",
    "df_modified.rename(columns={'Release date': 'Estimated owners1'}, inplace=True)\n",
    "df_modified.rename(columns={'Estimated owners': 'Peak CCU1'}, inplace=True)\n",
    "df_modified.rename(columns={'Peak CCU': 'Required age1'}, inplace=True)\n",
    "df_modified.rename(columns={'Required age': 'Price1'}, inplace=True)\n",
    "df_modified.drop(columns=['Price'], inplace=True)"
   ]
  },
  {
   "cell_type": "code",
   "execution_count": 4,
   "id": "be48953f",
   "metadata": {},
   "outputs": [],
   "source": [
    "df_good = df_modified.copy()\n",
    "df_good.rename(columns={'AppID1': 'AppID'}, inplace=True)\n",
    "df_good.rename(columns={'Name1': 'Name'}, inplace=True)\n",
    "df_good.rename(columns={'Release Date1': 'Release date'}, inplace=True)\n",
    "df_good.rename(columns={'Estimated owners1': 'Estimated owners'}, inplace=True)\n",
    "df_good.rename(columns={'Peak CCU1': 'Peak CCU'}, inplace=True)\n",
    "df_good.rename(columns={'Required age1': 'Required age'}, inplace=True)\n",
    "df_good.rename(columns={'Price1': 'Price'}, inplace=True)"
   ]
  },
  {
   "cell_type": "code",
   "execution_count": 5,
   "id": "47185c55",
   "metadata": {},
   "outputs": [
    {
     "name": "stdout",
     "output_type": "stream",
     "text": [
      "DataFrame original:\n",
      "     AppID                   Name  Release date Estimated owners  Peak CCU  \\\n",
      "0    20200       Galactic Bowling  Oct 21, 2008        0 - 20000         0   \n",
      "1   655370           Train Bandit  Oct 12, 2017        0 - 20000         0   \n",
      "2  1732930           Jolt Project  Nov 17, 2021        0 - 20000         0   \n",
      "3  1355720               Henosis™  Jul 23, 2020        0 - 20000         0   \n",
      "4  1139950  Two Weeks in Painland   Feb 3, 2020        0 - 20000         0   \n",
      "\n",
      "   Required age  Price  DiscountDLC count  \\\n",
      "0             0  19.99                  0   \n",
      "1             0   0.99                  0   \n",
      "2             0   4.99                  0   \n",
      "3             0   5.99                  0   \n",
      "4             0   0.00                  0   \n",
      "\n",
      "                                      About the game  \\\n",
      "0  Galactic Bowling is an exaggerated and stylize...   \n",
      "1  THE LAW!! Looks to be a showdown atop a train....   \n",
      "2  Jolt Project: The army now has a new robotics ...   \n",
      "3  HENOSIS™ is a mysterious 2D Platform Puzzler w...   \n",
      "4  ABOUT THE GAME Play as a hacker who has arrang...   \n",
      "\n",
      "                                 Supported languages  ...  \\\n",
      "0                                        ['English']  ...   \n",
      "1  ['English', 'French', 'Italian', 'German', 'Sp...  ...   \n",
      "2                 ['English', 'Portuguese - Brazil']  ...   \n",
      "3  ['English', 'French', 'Italian', 'German', 'Sp...  ...   \n",
      "4                     ['English', 'Spanish - Spain']  ...   \n",
      "\n",
      "  Average playtime two weeks Median playtime forever  \\\n",
      "0                          0                       0   \n",
      "1                          0                       0   \n",
      "2                          0                       0   \n",
      "3                          0                       0   \n",
      "4                          0                       0   \n",
      "\n",
      "  Median playtime two weeks             Developers             Publishers  \\\n",
      "0                         0  Perpetual FX Creative  Perpetual FX Creative   \n",
      "1                         0           Rusty Moyher           Wild Rooster   \n",
      "2                         0          Campião Games          Campião Games   \n",
      "3                         0      Odd Critter Games      Odd Critter Games   \n",
      "4                         0          Unusual Games          Unusual Games   \n",
      "\n",
      "                                          Categories  \\\n",
      "0  Single-player,Multi-player,Steam Achievements,...   \n",
      "1  Single-player,Steam Achievements,Full controll...   \n",
      "2                                      Single-player   \n",
      "3              Single-player,Full controller support   \n",
      "4                   Single-player,Steam Achievements   \n",
      "\n",
      "                            Genres  \\\n",
      "0              Casual,Indie,Sports   \n",
      "1                     Action,Indie   \n",
      "2  Action,Adventure,Indie,Strategy   \n",
      "3           Adventure,Casual,Indie   \n",
      "4                  Adventure,Indie   \n",
      "\n",
      "                                                Tags  \\\n",
      "0                        Indie,Casual,Sports,Bowling   \n",
      "1  Indie,Action,Pixel Graphics,2D,Retro,Arcade,Sc...   \n",
      "2                                                NaN   \n",
      "3  2D Platformer,Atmospheric,Surreal,Mystery,Puzz...   \n",
      "4  Indie,Adventure,Nudity,Violent,Sexual Content,...   \n",
      "\n",
      "                                         Screenshots  \\\n",
      "0  https://cdn.akamai.steamstatic.com/steam/apps/...   \n",
      "1  https://cdn.akamai.steamstatic.com/steam/apps/...   \n",
      "2  https://cdn.akamai.steamstatic.com/steam/apps/...   \n",
      "3  https://cdn.akamai.steamstatic.com/steam/apps/...   \n",
      "4  https://cdn.akamai.steamstatic.com/steam/apps/...   \n",
      "\n",
      "                                              Movies  \n",
      "0  http://cdn.akamai.steamstatic.com/steam/apps/2...  \n",
      "1  http://cdn.akamai.steamstatic.com/steam/apps/2...  \n",
      "2  http://cdn.akamai.steamstatic.com/steam/apps/2...  \n",
      "3  http://cdn.akamai.steamstatic.com/steam/apps/2...  \n",
      "4  http://cdn.akamai.steamstatic.com/steam/apps/2...  \n",
      "\n",
      "[5 rows x 39 columns]\n"
     ]
    }
   ],
   "source": [
    "print(\"DataFrame original:\")\n",
    "print(df_good.head())"
   ]
  },
  {
   "cell_type": "code",
   "execution_count": 10,
   "id": "8bbd4615",
   "metadata": {},
   "outputs": [
    {
     "name": "stdout",
     "output_type": "stream",
     "text": [
      "\n",
      "Número de filas con valores nulos en cada columna:\n",
      "AppID                              6\n",
      "Name                               0\n",
      "Release date                       0\n",
      "Estimated owners                   0\n",
      "Peak CCU                           0\n",
      "Required age                       0\n",
      "Price                              0\n",
      "DiscountDLC count                  0\n",
      "About the game                  6483\n",
      "Supported languages                0\n",
      "Full audio languages               0\n",
      "Reviews                       100828\n",
      "Header image                       0\n",
      "Website                        64994\n",
      "Support url                    60693\n",
      "Support email                  19025\n",
      "Windows                            0\n",
      "Mac                                0\n",
      "Linux                              0\n",
      "Metacritic score                   0\n",
      "Metacritic url                107447\n",
      "User score                         0\n",
      "Positive                           0\n",
      "Negative                           0\n",
      "Score rank                    111408\n",
      "Achievements                       0\n",
      "Recommendations                    0\n",
      "Notes                          93003\n",
      "Average playtime forever           0\n",
      "Average playtime two weeks         0\n",
      "Median playtime forever            0\n",
      "Median playtime two weeks          0\n",
      "Developers                      6475\n",
      "Publishers                      6778\n",
      "Categories                      7566\n",
      "Genres                          6440\n",
      "Tags                           37423\n",
      "Screenshots                     4192\n",
      "Movies                          9620\n",
      "dtype: int64\n"
     ]
    }
   ],
   "source": [
    "# Verificar cuántas filas tienen valores nulos\n",
    "print(\"\\nNúmero de filas con valores nulos en cada columna:\")\n",
    "print(df.isnull().sum())"
   ]
  },
  {
   "cell_type": "code",
   "execution_count": 7,
   "id": "8547a6fa",
   "metadata": {},
   "outputs": [],
   "source": [
    "# # Reemplazar valores nulos con -1\n",
    "df_good.fillna(-1, inplace=True)\n",
    "# df.drop(columns=['Reviews'], inplace=True)"
   ]
  },
  {
   "cell_type": "code",
   "execution_count": 11,
   "id": "218d905d",
   "metadata": {},
   "outputs": [
    {
     "name": "stdout",
     "output_type": "stream",
     "text": [
      "\n",
      "Número de filas con valores nulos en cada columna:\n",
      "AppID                         0\n",
      "Name                          0\n",
      "Release date                  0\n",
      "Estimated owners              0\n",
      "Peak CCU                      0\n",
      "Required age                  0\n",
      "Price                         0\n",
      "DiscountDLC count             0\n",
      "About the game                0\n",
      "Supported languages           0\n",
      "Full audio languages          0\n",
      "Reviews                       0\n",
      "Header image                  0\n",
      "Website                       0\n",
      "Support url                   0\n",
      "Support email                 0\n",
      "Windows                       0\n",
      "Mac                           0\n",
      "Linux                         0\n",
      "Metacritic score              0\n",
      "Metacritic url                0\n",
      "User score                    0\n",
      "Positive                      0\n",
      "Negative                      0\n",
      "Score rank                    0\n",
      "Achievements                  0\n",
      "Recommendations               0\n",
      "Notes                         0\n",
      "Average playtime forever      0\n",
      "Average playtime two weeks    0\n",
      "Median playtime forever       0\n",
      "Median playtime two weeks     0\n",
      "Developers                    0\n",
      "Publishers                    0\n",
      "Categories                    0\n",
      "Genres                        0\n",
      "Tags                          0\n",
      "Screenshots                   0\n",
      "Movies                        0\n",
      "dtype: int64\n"
     ]
    }
   ],
   "source": [
    "# Verificar cuántas filas tienen valores nulos\n",
    "print(\"\\nNúmero de filas con valores nulos en cada columna:\")\n",
    "print(df_good.isnull().sum())"
   ]
  },
  {
   "cell_type": "code",
   "execution_count": 8,
   "id": "91bfad39",
   "metadata": {},
   "outputs": [],
   "source": [
    "# df.rename(columns={'Supported languages': 'Reviews'}, inplace=True)"
   ]
  },
  {
   "cell_type": "code",
   "execution_count": 9,
   "id": "9c9f59bc",
   "metadata": {},
   "outputs": [],
   "source": [
    "# # Mostrar el DataFrame después de reemplazar los valores nulos\n",
    "# print(\"\\nDataFrame después de reemplazar valores nulos con -1:\")\n",
    "# print(df)"
   ]
  },
  {
   "cell_type": "code",
   "execution_count": null,
   "id": "58b0b74c",
   "metadata": {},
   "outputs": [],
   "source": []
  }
 ],
 "metadata": {
  "kernelspec": {
   "display_name": "Python 3",
   "language": "python",
   "name": "python3"
  },
  "language_info": {
   "codemirror_mode": {
    "name": "ipython",
    "version": 3
   },
   "file_extension": ".py",
   "mimetype": "text/x-python",
   "name": "python",
   "nbconvert_exporter": "python",
   "pygments_lexer": "ipython3",
   "version": "3.11.9"
  }
 },
 "nbformat": 4,
 "nbformat_minor": 5
}
